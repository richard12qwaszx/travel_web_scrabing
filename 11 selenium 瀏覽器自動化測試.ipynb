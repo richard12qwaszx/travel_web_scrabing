{
 "cells": [
  {
   "cell_type": "markdown",
   "metadata": {},
   "source": [
    "# 匯入自動測試工具相關套件"
   ]
  },
  {
   "cell_type": "code",
   "execution_count": 6,
   "metadata": {},
   "outputs": [
    {
     "ename": "WebDriverException",
     "evalue": "Message: 'chromedriver' executable needs to be in PATH. Please see https://sites.google.com/a/chromium.org/chromedriver/home\n",
     "output_type": "error",
     "traceback": [
      "\u001b[1;31m---------------------------------------------------------------------------\u001b[0m",
      "\u001b[1;31mFileNotFoundError\u001b[0m                         Traceback (most recent call last)",
      "\u001b[1;32mc:\\Users\\student\\anaconda3\\envs\\finlab\\lib\\site-packages\\selenium\\webdriver\\common\\service.py\u001b[0m in \u001b[0;36mstart\u001b[1;34m(self)\u001b[0m\n\u001b[0;32m     75\u001b[0m                                             \u001b[0mstderr\u001b[0m\u001b[1;33m=\u001b[0m\u001b[0mself\u001b[0m\u001b[1;33m.\u001b[0m\u001b[0mlog_file\u001b[0m\u001b[1;33m,\u001b[0m\u001b[1;33m\u001b[0m\u001b[1;33m\u001b[0m\u001b[0m\n\u001b[1;32m---> 76\u001b[1;33m                                             stdin=PIPE)\n\u001b[0m\u001b[0;32m     77\u001b[0m         \u001b[1;32mexcept\u001b[0m \u001b[0mTypeError\u001b[0m\u001b[1;33m:\u001b[0m\u001b[1;33m\u001b[0m\u001b[1;33m\u001b[0m\u001b[0m\n",
      "\u001b[1;32mc:\\Users\\student\\anaconda3\\envs\\finlab\\lib\\subprocess.py\u001b[0m in \u001b[0;36m__init__\u001b[1;34m(self, args, bufsize, executable, stdin, stdout, stderr, preexec_fn, close_fds, shell, cwd, env, universal_newlines, startupinfo, creationflags, restore_signals, start_new_session, pass_fds, encoding, errors)\u001b[0m\n\u001b[0;32m    728\u001b[0m                                 \u001b[0merrread\u001b[0m\u001b[1;33m,\u001b[0m \u001b[0merrwrite\u001b[0m\u001b[1;33m,\u001b[0m\u001b[1;33m\u001b[0m\u001b[1;33m\u001b[0m\u001b[0m\n\u001b[1;32m--> 729\u001b[1;33m                                 restore_signals, start_new_session)\n\u001b[0m\u001b[0;32m    730\u001b[0m         \u001b[1;32mexcept\u001b[0m\u001b[1;33m:\u001b[0m\u001b[1;33m\u001b[0m\u001b[1;33m\u001b[0m\u001b[0m\n",
      "\u001b[1;32mc:\\Users\\student\\anaconda3\\envs\\finlab\\lib\\subprocess.py\u001b[0m in \u001b[0;36m_execute_child\u001b[1;34m(self, args, executable, preexec_fn, close_fds, pass_fds, cwd, env, startupinfo, creationflags, shell, p2cread, p2cwrite, c2pread, c2pwrite, errread, errwrite, unused_restore_signals, unused_start_new_session)\u001b[0m\n\u001b[0;32m   1016\u001b[0m                                          \u001b[0mos\u001b[0m\u001b[1;33m.\u001b[0m\u001b[0mfspath\u001b[0m\u001b[1;33m(\u001b[0m\u001b[0mcwd\u001b[0m\u001b[1;33m)\u001b[0m \u001b[1;32mif\u001b[0m \u001b[0mcwd\u001b[0m \u001b[1;32mis\u001b[0m \u001b[1;32mnot\u001b[0m \u001b[1;32mNone\u001b[0m \u001b[1;32melse\u001b[0m \u001b[1;32mNone\u001b[0m\u001b[1;33m,\u001b[0m\u001b[1;33m\u001b[0m\u001b[1;33m\u001b[0m\u001b[0m\n\u001b[1;32m-> 1017\u001b[1;33m                                          startupinfo)\n\u001b[0m\u001b[0;32m   1018\u001b[0m             \u001b[1;32mfinally\u001b[0m\u001b[1;33m:\u001b[0m\u001b[1;33m\u001b[0m\u001b[1;33m\u001b[0m\u001b[0m\n",
      "\u001b[1;31mFileNotFoundError\u001b[0m: [WinError 2] 系統找不到指定的檔案。",
      "\nDuring handling of the above exception, another exception occurred:\n",
      "\u001b[1;31mWebDriverException\u001b[0m                        Traceback (most recent call last)",
      "\u001b[1;32m<ipython-input-6-c5d1cd1d408c>\u001b[0m in \u001b[0;36m<module>\u001b[1;34m\u001b[0m\n\u001b[0;32m     39\u001b[0m \u001b[1;31m# 使用 Chrome 的 WebDriver\u001b[0m\u001b[1;33m\u001b[0m\u001b[1;33m\u001b[0m\u001b[1;33m\u001b[0m\u001b[0m\n\u001b[0;32m     40\u001b[0m \u001b[1;31m# my_service = Service(executable_path=\"./chromedriver.exe\")\u001b[0m\u001b[1;33m\u001b[0m\u001b[1;33m\u001b[0m\u001b[1;33m\u001b[0m\u001b[0m\n\u001b[1;32m---> 41\u001b[1;33m driver = webdriver.Chrome(\n\u001b[0m\u001b[0;32m     42\u001b[0m     \u001b[1;31m# options = my_options,\u001b[0m\u001b[1;33m\u001b[0m\u001b[1;33m\u001b[0m\u001b[1;33m\u001b[0m\u001b[0m\n\u001b[0;32m     43\u001b[0m     \u001b[1;31m# executable_path=driver_path\u001b[0m\u001b[1;33m\u001b[0m\u001b[1;33m\u001b[0m\u001b[1;33m\u001b[0m\u001b[0m\n",
      "\u001b[1;32mc:\\Users\\student\\anaconda3\\envs\\finlab\\lib\\site-packages\\selenium\\webdriver\\chrome\\webdriver.py\u001b[0m in \u001b[0;36m__init__\u001b[1;34m(self, executable_path, port, options, service_args, desired_capabilities, service_log_path, chrome_options, keep_alive)\u001b[0m\n\u001b[0;32m     71\u001b[0m             \u001b[0mservice_args\u001b[0m\u001b[1;33m=\u001b[0m\u001b[0mservice_args\u001b[0m\u001b[1;33m,\u001b[0m\u001b[1;33m\u001b[0m\u001b[1;33m\u001b[0m\u001b[0m\n\u001b[0;32m     72\u001b[0m             log_path=service_log_path)\n\u001b[1;32m---> 73\u001b[1;33m         \u001b[0mself\u001b[0m\u001b[1;33m.\u001b[0m\u001b[0mservice\u001b[0m\u001b[1;33m.\u001b[0m\u001b[0mstart\u001b[0m\u001b[1;33m(\u001b[0m\u001b[1;33m)\u001b[0m\u001b[1;33m\u001b[0m\u001b[1;33m\u001b[0m\u001b[0m\n\u001b[0m\u001b[0;32m     74\u001b[0m \u001b[1;33m\u001b[0m\u001b[0m\n\u001b[0;32m     75\u001b[0m         \u001b[1;32mtry\u001b[0m\u001b[1;33m:\u001b[0m\u001b[1;33m\u001b[0m\u001b[1;33m\u001b[0m\u001b[0m\n",
      "\u001b[1;32mc:\\Users\\student\\anaconda3\\envs\\finlab\\lib\\site-packages\\selenium\\webdriver\\common\\service.py\u001b[0m in \u001b[0;36mstart\u001b[1;34m(self)\u001b[0m\n\u001b[0;32m     81\u001b[0m                 raise WebDriverException(\n\u001b[0;32m     82\u001b[0m                     \"'%s' executable needs to be in PATH. %s\" % (\n\u001b[1;32m---> 83\u001b[1;33m                         os.path.basename(self.path), self.start_error_message)\n\u001b[0m\u001b[0;32m     84\u001b[0m                 )\n\u001b[0;32m     85\u001b[0m             \u001b[1;32melif\u001b[0m \u001b[0merr\u001b[0m\u001b[1;33m.\u001b[0m\u001b[0merrno\u001b[0m \u001b[1;33m==\u001b[0m \u001b[0merrno\u001b[0m\u001b[1;33m.\u001b[0m\u001b[0mEACCES\u001b[0m\u001b[1;33m:\u001b[0m\u001b[1;33m\u001b[0m\u001b[1;33m\u001b[0m\u001b[0m\n",
      "\u001b[1;31mWebDriverException\u001b[0m: Message: 'chromedriver' executable needs to be in PATH. Please see https://sites.google.com/a/chromium.org/chromedriver/home\n"
     ]
    }
   ],
   "source": [
    "'''\n",
    "匯入套件\n",
    "'''\n",
    "# 操作 browser 的 API\n",
    "from selenium.webdriver.chrome.service import Service\n",
    "from selenium import webdriver\n",
    "\n",
    "# 處理逾時例外的工具\n",
    "from selenium.common.exceptions import TimeoutException\n",
    "\n",
    "# 面對動態網頁，等待某個元素出現的工具，通常與 exptected_conditions 搭配\n",
    "from selenium.webdriver.support.ui import WebDriverWait\n",
    "\n",
    "# 搭配 WebDriverWait 使用，對元素狀態的一種期待條件，若條件發生，則等待結束，往下一行執行\n",
    "from selenium.webdriver.support import expected_conditions as EC\n",
    "\n",
    "# 期待元素出現要透過什麼方式指定，通常與 EC、WebDriverWait 一起使用\n",
    "from selenium.webdriver.common.by import By\n",
    "\n",
    "# 強制等待 (執行期間休息一下)\n",
    "from time import sleep\n",
    "\n",
    "'''\n",
    "selenium 啓動 Chrome 的進階配置參數\n",
    "參考網址：https://stackoverflow.max-everyday.com/2019/12/selenium-chrome-options/\n",
    "'''\n",
    "driver_path = 'C:/Users/student/python_web_scraping/chromedriver-win64/chromedriver.exe'\n",
    "#driver = webdriver.Chrome(executable_path=driver_path)\n",
    "# 啟動瀏覽器工具的選項\n",
    "# my_options = webdriver.ChromeOptions()\n",
    "# # my_options.add_argument(\"--headless\")                #不開啟實體瀏覽器背景執行\n",
    "# my_options.add_argument(\"--start-maximized\")         #最大化視窗\n",
    "# my_options.add_argument(\"--incognito\")               #開啟無痕模式\n",
    "# my_options.add_argument(\"--disable-popup-blocking\") #禁用彈出攔截\n",
    "# my_options.add_argument(\"--disable-notifications\")  #取消 chrome 推播通知\n",
    "# my_options.add_argument(\"--lang=zh-TW\")  #設定為正體中文\n",
    "\n",
    "\n",
    "# 使用 Chrome 的 WebDriver\n",
    "# my_service = Service(executable_path=\"./chromedriver.exe\")\n",
    "driver = webdriver.Chrome(\n",
    "    # options = my_options,\n",
    "    # executable_path=driver_path\n",
    "#     service = my_service\n",
    ")"
   ]
  },
  {
   "cell_type": "code",
   "execution_count": null,
   "metadata": {},
   "outputs": [],
   "source": [
    "from selenium import webdriver\n",
    "\n",
    "# 創建 ChromeOptions 實例\n",
    "my_options = webdriver.ChromeOptions()\n",
    "\n",
    "# 添加命令行參數\n",
    "my_options.add_argument(\"--headless\")  # 無頭模式\n",
    "my_options.add_argument(\"--disable-gpu\")  # 禁用 GPU\n",
    "my_options.add_argument(\"--start-maximized\")  # 窗口最大化\n",
    "my_options.add_argument(\"--window-size=1920,1080\")  # 設置窗口大小\n",
    "\n",
    "# 添加實驗性選項\n",
    "my_options.add_experimental_option(\"excludeSwitches\", [\"enable-automation\"])  # 禁用自動化標籤\n",
    "my_options.add_experimental_option(\"prefs\", {\n",
    "    \"credentials_enable_service\": False,\n",
    "    \"profile.password_manager_enabled\": False\n",
    "})  # 禁用密碼管理彈窗\n",
    "\n",
    "# 添加擴展程序\n",
    "# my_options.add_extension(\"/path/to/extension.crx\")\n",
    "\n",
    "# 指定 Chrome 執行檔路徑\n",
    "# my_options.binary_location = \"/path/to/chrome\"\n",
    "\n",
    "# 設置調試地址\n",
    "# my_options.debugger_address = \"127.0.0.1:9222\"\n",
    "\n",
    "# 創建 WebDriver 實例並應用配置\n",
    "driver = webdriver.Chrome(options=my_options)\n",
    "\n",
    "# 打開測試頁面\n",
    "driver.get(\"https://www.google.com\")\n",
    "print(driver.title)\n",
    "\n",
    "# 關閉瀏覽器\n",
    "driver.quit()\n"
   ]
  },
  {
   "cell_type": "markdown",
   "metadata": {},
   "source": [
    "# 在瀏覽器中執行自訂 JavaScript 程式"
   ]
  },
  {
   "cell_type": "code",
   "execution_count": null,
   "metadata": {},
   "outputs": [],
   "source": [
    "# 開啟網頁\n",
    "driver.get(\"https://crptransfer.moe.gov.tw/\")\n",
    "\n",
    "# 跳出 alert 視窗 (在 chrome 裡面執行 javascript 語法)\n",
    "driver.execute_script(\"window.alert('這是我們自訂的彈跳視窗');\")\n",
    "\n",
    "# 等個幾秒\n",
    "sleep(3)\n",
    "\n",
    "# 點選彈出裡面的確定按鈕\n",
    "driver.switch_to.alert.accept()"
   ]
  },
  {
   "cell_type": "markdown",
   "metadata": {},
   "source": [
    "# 輸入文字，送出表單"
   ]
  },
  {
   "cell_type": "code",
   "execution_count": null,
   "metadata": {},
   "outputs": [],
   "source": [
    "# 開啟網頁\n",
    "driver.get(\"https://crptransfer.moe.gov.tw/\")\n",
    "\n",
    "# 尋找網頁中的搜尋框\n",
    "inputElement = driver.find_element(\n",
    "    By.CSS_SELECTOR, 'input#SN'\n",
    ")\n",
    "\n",
    "# 在搜尋框中輸入文字\n",
    "inputElement.send_keys(\"人帥真好\")\n",
    "\n",
    "# 睡個幾秒\n",
    "sleep(2)\n",
    "\n",
    "# 送出搜尋\n",
    "inputElement.submit()\n",
    "\n",
    "# 搜尋結果的 CSS Selector\n",
    "cssSelector = \"body > table > tbody > tr:nth-child(1) > td > main > article > div > table > tbody > tr:nth-child(2) > td\"\n",
    "\n",
    "try:\n",
    "    # 等待網頁搜尋結果\n",
    "    WebDriverWait(driver, 10).until(\n",
    "        EC.presence_of_element_located(\n",
    "            (By.CSS_SELECTOR, cssSelector)\n",
    "        )\n",
    "    )\n",
    "    \n",
    "    # 取得第一頁搜尋結果\n",
    "    element = driver.find_element(\n",
    "        By.CSS_SELECTOR, cssSelector\n",
    "    )\n",
    "    \n",
    "    # 輸出想要爬取的文字\n",
    "    print(element.text) \n",
    "    print(element.get_attribute('innerText')) # 另一種寫法\n",
    "except TimeoutException:\n",
    "    print('等待逾時！')"
   ]
  },
  {
   "cell_type": "markdown",
   "metadata": {},
   "source": [
    "# 輸入文字，按下送出鈕"
   ]
  },
  {
   "cell_type": "code",
   "execution_count": null,
   "metadata": {},
   "outputs": [],
   "source": [
    "# 開啟網頁\n",
    "driver.get(\"https://www.104.com.tw/jobs/main/\")\n",
    "\n",
    "# 尋找網頁中的搜尋框\n",
    "inputElement = driver.find_element(\n",
    "    By.CSS_SELECTOR, 'input[data-gtm-index^=\"搜尋欄位\"]'\n",
    ")\n",
    "\n",
    "# 在搜尋框中輸入文字\n",
    "inputElement.send_keys(\"python\")\n",
    "\n",
    "# 睡個幾秒\n",
    "sleep(3)\n",
    "\n",
    "# 按鈕選擇器\n",
    "cssSelectorBtn = 'button.btn[type=\"submit\"][data-gtm-index^=\"搜尋欄位\"]'\n",
    "\n",
    "try:\n",
    "    # 等待元素\n",
    "    WebDriverWait(driver, 10).until(\n",
    "        EC.presence_of_element_located(\n",
    "            (By.CSS_SELECTOR, cssSelectorBtn)\n",
    "        )\n",
    "    )\n",
    "    \n",
    "    # 取得按鈕元素\n",
    "    btn = driver.find_element(\n",
    "        By.CSS_SELECTOR, cssSelectorBtn\n",
    "    )\n",
    "    \n",
    "    # 按下按鈕\n",
    "    btn.click()\n",
    "except TimeoutException:\n",
    "    print('等待逾時！')"
   ]
  },
  {
   "cell_type": "markdown",
   "metadata": {},
   "source": [
    "# 刷新頁面 (類似 F5 或 Ctrl + R)"
   ]
  },
  {
   "cell_type": "code",
   "execution_count": null,
   "metadata": {},
   "outputs": [],
   "source": [
    "# 開啟網頁\n",
    "driver.get(\"https://reurl.cc/jR725D\")\n",
    "\n",
    "# 睡個幾秒\n",
    "sleep(3)\n",
    "\n",
    "# 刷新頁面\n",
    "driver.refresh()\n",
    "\n",
    "# 睡個幾秒\n",
    "sleep(3)\n",
    "\n",
    "# 刷新頁面\n",
    "driver.refresh()\n",
    "\n",
    "# 睡個幾秒\n",
    "sleep(3)\n",
    "\n",
    "# 關閉瀏覽器\n",
    "driver.quit()"
   ]
  }
 ],
 "metadata": {
  "kernelspec": {
   "display_name": "finlab",
   "language": "python",
   "name": "python3"
  },
  "language_info": {
   "codemirror_mode": {
    "name": "ipython",
    "version": 3
   },
   "file_extension": ".py",
   "mimetype": "text/x-python",
   "name": "python",
   "nbconvert_exporter": "python",
   "pygments_lexer": "ipython3",
   "version": "3.6.13"
  }
 },
 "nbformat": 4,
 "nbformat_minor": 4
}
