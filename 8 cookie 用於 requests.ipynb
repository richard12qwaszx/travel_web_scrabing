{
 "cells": [
  {
   "cell_type": "markdown",
   "id": "af7c99e7",
   "metadata": {},
   "source": [
    "# 以 PTT Gossiiping (八卦版) 為例"
   ]
  },
  {
   "cell_type": "code",
   "execution_count": 1,
   "id": "cd2ac08a",
   "metadata": {},
   "outputs": [
    {
     "name": "stdout",
     "output_type": "stream",
     "text": [
      "Re: [問卦] 子宮年年通膨 今年台女子宮上漲多少了?\n",
      "https://www.ptt.cc/bbs/Gossiping/M.1733196821.A.C90.html\n",
      "Re: [新聞] 快訊／陸生團馬龍訪台大！學生突襲舉牌\n",
      "https://www.ptt.cc/bbs/Gossiping/M.1733196848.A.CAB.html\n",
      "[問卦] 星展銀 一直打電話來耶!\n",
      "https://www.ptt.cc/bbs/Gossiping/M.1733196855.A.438.html\n",
      "[問卦] 聊天頻率不合的本質是什麼?\n",
      "https://www.ptt.cc/bbs/Gossiping/M.1733196868.A.956.html\n",
      "[問卦] 8+9把人打到加護病房 說自己情緒障礙\n",
      "https://www.ptt.cc/bbs/Gossiping/M.1733196898.A.610.html\n",
      "[問卦] 李皓禎離開台灣是誰的錯\n",
      "https://www.ptt.cc/bbs/Gossiping/M.1733196906.A.9DD.html\n",
      "[問卦] 小六身高170打樂樂棒球，進職棒淺力如何\n",
      "https://www.ptt.cc/bbs/Gossiping/M.1733196946.A.CD3.html\n",
      "[新聞] 藍挺反廢死遊行 綠黨團批操作廢死沒良知\n",
      "https://www.ptt.cc/bbs/Gossiping/M.1733196985.A.FE6.html\n",
      "[問卦] 自助餐夾這樣多少？\n",
      "https://www.ptt.cc/bbs/Gossiping/M.1733197022.A.4A0.html\n",
      "[問卦] 欸幹投降後解放軍來台要玩你屁眼給玩嗎\n",
      "https://www.ptt.cc/bbs/Gossiping/M.1733197072.A.6FC.html\n",
      "Re: [新聞] 快訊／黃子佼涉付費下載47部未成年女\n",
      "https://www.ptt.cc/bbs/Gossiping/M.1733197075.A.35B.html\n",
      "[問卦] 今天是日本山道猴子日！\n",
      "https://www.ptt.cc/bbs/Gossiping/M.1733197221.A.A47.html\n",
      "Re: [問卦]為啥中國造不出光刻機\n",
      "https://www.ptt.cc/bbs/Gossiping/M.1733197224.A.D3A.html\n",
      "[問卦] 八卦板是不是變正常一點了\n",
      "https://www.ptt.cc/bbs/Gossiping/M.1733197232.A.8FE.html\n",
      "[新聞] 高雄自小客車自撞分隔島 駕駛棄車逃逸失\n",
      "https://www.ptt.cc/bbs/Gossiping/M.1733197261.A.C6A.html\n",
      "[問卦] 小學就開始打老師算狼性的表現嗎\n",
      "https://www.ptt.cc/bbs/Gossiping/M.1733197284.A.CD4.html\n",
      "Re: [問卦] SYM到底是什麼原因退出公會?\n",
      "https://www.ptt.cc/bbs/Gossiping/M.1733197400.A.0CA.html\n",
      "[問卦] 泰國人名很長 都要有小名？\n",
      "https://www.ptt.cc/bbs/Gossiping/M.1733197668.A.974.html\n",
      "Re: [問卦]為啥中國造不出光刻機\n",
      "https://www.ptt.cc/bbs/Gossiping/M.1733197714.A.B31.html\n",
      "Re: [問卦] 自助餐夾這樣多少？\n",
      "https://www.ptt.cc/bbs/Gossiping/M.1733197757.A.DA2.html\n",
      "[公告] 八卦板板規(2024.07.21)\n",
      "https://www.ptt.cc/bbs/Gossiping/M.1721519414.A.6A1.html\n",
      "Fw: [公告] 請留意新註冊帳號使用信件詐騙\n",
      "https://www.ptt.cc/bbs/Gossiping/M.1730554547.A.41C.html\n",
      "[協尋] 尋人啟事 朋友的爸爸有失智老人\n",
      "https://www.ptt.cc/bbs/Gossiping/M.1731945199.A.90D.html\n",
      "[公告] 十一月看正版挺台灣Team Tawian置底閒聊區\n",
      "https://www.ptt.cc/bbs/Gossiping/M.1732424712.A.375.html\n",
      "Fw: [公告] 關於 #1dIHKWhw (Gossiping) 該公告\n",
      "https://www.ptt.cc/bbs/Gossiping/M.1732892401.A.3C7.html\n"
     ]
    }
   ],
   "source": [
    "import requests as req\n",
    "from bs4 import BeautifulSoup as bs\n",
    "\n",
    " # PTT Gossiiping (八卦版) \n",
    "url = \"https://www.ptt.cc/bbs/Gossiping/index.html\"\n",
    "\n",
    "# 首頁網址\n",
    "prefix = 'https://www.ptt.cc'\n",
    "\n",
    "# 設定 cookie\n",
    "my_cookies = {\n",
    "    \"over18\": \"1\"\n",
    "}\n",
    "\n",
    "# 用 requests 的 get 方法把網頁抓下來\n",
    "res = req.get(url, cookies = my_cookies) \n",
    "\n",
    "# 指定 lxml 作為解析器\n",
    "soup = bs(res.text, \"lxml\")\n",
    "\n",
    "# 顯示連結列表\n",
    "for a in soup.select('div.r-ent > div.title > a'):\n",
    "    print(a.get_text())\n",
    "    print(prefix + a['href'])"
   ]
  },
  {
   "cell_type": "code",
   "execution_count": null,
   "id": "4faeae42-dc4c-46c9-9c37-c7c184f658f0",
   "metadata": {},
   "outputs": [],
   "source": []
  }
 ],
 "metadata": {
  "kernelspec": {
   "display_name": "finlab",
   "language": "python",
   "name": "myenv"
  },
  "language_info": {
   "codemirror_mode": {
    "name": "ipython",
    "version": 3
   },
   "file_extension": ".py",
   "mimetype": "text/x-python",
   "name": "python",
   "nbconvert_exporter": "python",
   "pygments_lexer": "ipython3",
   "version": "3.6.13"
  }
 },
 "nbformat": 4,
 "nbformat_minor": 5
}
