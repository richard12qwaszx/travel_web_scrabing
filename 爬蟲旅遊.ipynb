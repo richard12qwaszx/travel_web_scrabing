{
 "cells": [
  {
   "cell_type": "code",
   "execution_count": 1,
   "id": "186b2e8f-b434-4f75-845f-113e52201e5e",
   "metadata": {},
   "outputs": [
    {
     "name": "stdout",
     "output_type": "stream",
     "text": [
      "台灣最高建築物的觀景台，從5樓搭乘時速60公里的電梯到89F ，以360度視野俯瞰台北，並可以用近距離觀賞阻尼器及上91F吹風賞景，值得久久來一次，看見台北的發展。雖然室內觀景台只有382m ，不過具有近90度的垂直視角（正下方的道路），以及清楚看到城市車流；如果額外付費的話，還可以到真正的101F 。 … 全文\n",
      "現場真的滿滿的人潮，不清楚平日是不是這樣。很幸運的是雖然天空下了小雨，但也只是風吹的時候會霧濛濛，強烈建議購買快速通關，不然真的會把時間耗費在等待上，89樓因應聖誕節有很多造景。其實主要室內都在89樓；白玉豆花跟雞蛋糕真的蠻好吃，但價格也真的高空價，套票就這兩種一起共330元。上了91樓期待值超級高、風也超級大，但只能從縫隙裡看出去有點可惜，回程需要從89樓下到88樓才能有電梯，可以先在89樓看一次阻尼器，再到88樓看一次，視角不同看起來的感覺也不同。 … 全文\n",
      "電梯快又穩，且梯內星空氛圍非常好，加上又有多國語言介紹提醒，對外國人很友善.\n",
      "室內觀景台裝飾拍照區很像在婚紗店內，個人較不喜歡.上次造訪時間… 全文\n"
     ]
    }
   ],
   "source": [
    "from selenium import webdriver\n",
    "from selenium.webdriver.common.by import By\n",
    "from selenium.webdriver.support.ui import WebDriverWait\n",
    "from selenium.webdriver.support import expected_conditions as EC\n",
    "from bs4 import BeautifulSoup\n",
    "import time\n",
    "\n",
    "# 初始化瀏覽器\n",
    "driver = webdriver.Chrome()  # 或其他瀏覽器驅動\n",
    "\n",
    "try:\n",
    "    # 訪問網頁\n",
    "    driver.get(\"https://www.google.com.tw/maps/place/%E5%8F%B0%E5%8C%97101%E8%A7%80%E6%99%AF%E5%8F%B0/@25.0415739,121.5536994,15z/data=!4m10!1m2!2m1!1s101!3m6!1s0x3442abb6e9d93249:0xd508f7b3aa02d931!8m2!3d25.0336752!4d121.5648831!15sCgMxMDFaBSIDMTAxkgEQb2JzZXJ2YXRpb25fZGVja-ABAA!16s%2Fg%2F113h89pf8?hl=zh-TW&entry=ttu&g_ep=EgoyMDI0MTIxMS4wIKXMDSoASAFQAw%3D%3D\")\n",
    "    \n",
    "    # 等待頁面加載\n",
    "    time.sleep(5)  # 簡單等待\n",
    "    # 或使用顯式等待\n",
    "    wait = WebDriverWait(driver, 10)\n",
    "    reviews = wait.until(EC.presence_of_all_elements_located((By.CLASS_NAME, \"MyEned\")))\n",
    "    \n",
    "    # 獲取頁面源碼\n",
    "    page_source = driver.page_source\n",
    "    \n",
    "    # 使用 BeautifulSoup 解析\n",
    "    soup = BeautifulSoup(page_source, 'lxml')\n",
    "    \n",
    "    # 找尋評論\n",
    "    reviews = soup.find_all(class_=\"MyEned\")\n",
    "    \n",
    "    # 處理評論\n",
    "    for review in reviews:\n",
    "        print(review.text.strip())\n",
    "        \n",
    "except Exception as e:\n",
    "    print(f\"發生錯誤：{e}\")\n",
    "    \n",
    "finally:\n",
    "    driver.quit()\n"
   ]
  },
  {
   "cell_type": "code",
   "execution_count": null,
   "id": "44caf454-f8b8-4871-a89c-adb454499207",
   "metadata": {},
   "outputs": [],
   "source": []
  }
 ],
 "metadata": {
  "kernelspec": {
   "display_name": "Python [conda env:finlab]",
   "language": "python",
   "name": "conda-env-finlab-py"
  },
  "language_info": {
   "codemirror_mode": {
    "name": "ipython",
    "version": 3
   },
   "file_extension": ".py",
   "mimetype": "text/x-python",
   "name": "python",
   "nbconvert_exporter": "python",
   "pygments_lexer": "ipython3",
   "version": "3.6.13"
  }
 },
 "nbformat": 4,
 "nbformat_minor": 5
}
